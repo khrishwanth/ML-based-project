{
  "nbformat": 4,
  "nbformat_minor": 0,
  "metadata": {
    "colab": {
      "provenance": [],
      "toc_visible": true,
      "authorship_tag": "ABX9TyNTS/q/q8z8BwZ6bSPK0JYb",
      "include_colab_link": true
    },
    "kernelspec": {
      "name": "python3",
      "display_name": "Python 3"
    },
    "language_info": {
      "name": "python"
    }
  },
  "cells": [
    {
      "cell_type": "markdown",
      "metadata": {
        "id": "view-in-github",
        "colab_type": "text"
      },
      "source": [
        "<a href=\"https://colab.research.google.com/github/khrishwanth/ML-based-project/blob/main/low_light_enhancement.ipynb\" target=\"_parent\"><img src=\"https://colab.research.google.com/assets/colab-badge.svg\" alt=\"Open In Colab\"/></a>"
      ]
    },
    {
      "cell_type": "code",
      "source": [
        "import torch\n",
        "import torch.nn as nn\n",
        "import torchvision.transforms as transforms\n",
        "from PIL import Image\n",
        "import io\n",
        "\n",
        "class ResidualDenseBlock(nn.Module):\n",
        "    def __init__(self, in_channels, growth_channels):\n",
        "        super(ResidualDenseBlock, self).__init__()\n",
        "        self.layer1 = nn.Conv2d(in_channels, growth_channels, kernel_size=3, padding=1)\n",
        "        self.layer2 = nn.Conv2d(in_channels + growth_channels, in_channels, kernel_size=3, padding=1)\n",
        "        self.relu = nn.ReLU(inplace=True)\n",
        "\n",
        "    def forward(self, x):\n",
        "        out1 = self.relu(self.layer1(x))\n",
        "        out2 = self.relu(self.layer2(torch.cat([x, out1], 1)))\n",
        "        return out2 + x  # Skip connection\n",
        "\n",
        "class SimplifiedESRGAN(nn.Module):\n",
        "    def __init__(self):\n",
        "        super(SimplifiedESRGAN, self).__init__()\n",
        "        self.initial = nn.Conv2d(3, 64, kernel_size=3, padding=1)\n",
        "        self.rdb1 = ResidualDenseBlock(64, 32)\n",
        "        self.rdb2 = ResidualDenseBlock(64, 32)\n",
        "        self.upsample = nn.ConvTranspose2d(64, 64, kernel_size=4, stride=2, padding=1)\n",
        "        self.final = nn.Conv2d(64, 3, kernel_size=3, padding=1)\n",
        "\n",
        "    def forward(self, x):\n",
        "        out = self.initial(x)\n",
        "        out = self.rdb1(out)\n",
        "        out = self.rdb2(out)\n",
        "        out = self.upsample(out)\n",
        "        out = self.final(out)\n",
        "        return out\n",
        "\n",
        "# Instantiate the model\n",
        "model = SimplifiedESRGAN()"
      ],
      "metadata": {
        "id": "2pZx2hn5GIXb"
      },
      "execution_count": null,
      "outputs": []
    },
    {
      "cell_type": "code",
      "source": [
        "from google.colab import files\n",
        "import matplotlib.pyplot as plt\n",
        "\n",
        "# Function to upload an image\n",
        "def upload_image():\n",
        "    uploaded = files.upload()\n",
        "    for fn in uploaded.keys():\n",
        "        img = Image.open(io.BytesIO(uploaded[fn]))\n",
        "        return img\n",
        "\n",
        "# Upload an image\n",
        "img = upload_image()\n",
        "\n",
        "# Transform the image\n",
        "transform = transforms.Compose([\n",
        "    transforms.ToTensor(),\n",
        "    transforms.Resize((256, 256))\n",
        "])\n",
        "\n",
        "img_tensor = transform(img).unsqueeze(0)  # Add batch dimension\n",
        "\n",
        "# Pass through the model\n",
        "with torch.no_grad():\n",
        "    enhanced_img_tensor = model(img_tensor)\n",
        "\n",
        "# Convert back to PIL Image\n",
        "enhanced_img = transforms.ToPILImage()(enhanced_img_tensor.squeeze(0))\n",
        "\n",
        "# Display the original and enhanced images\n",
        "plt.figure(figsize=(10, 5))\n",
        "plt.subplot(1, 2, 1)\n",
        "plt.title(\"Original Image\")\n",
        "plt.imshow(img)\n",
        "plt.axis(\"off\")\n",
        "plt.subplot(1, 2, 2)\n",
        "plt.title(\"Enhanced Image\")\n",
        "plt.imshow(enhanced_img)\n",
        "plt.axis(\"off\")\n",
        "plt.show()"
      ],
      "metadata": {
        "id": "ijKLVvSAGNtM"
      },
      "execution_count": null,
      "outputs": []
    }
  ]
}